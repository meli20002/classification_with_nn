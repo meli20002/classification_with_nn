{
 "cells": [
  {
   "cell_type": "code",
   "execution_count": 1,
   "metadata": {},
   "outputs": [],
   "source": [
    "import numpy as np"
   ]
  },
  {
   "cell_type": "code",
   "execution_count": 2,
   "id": "40f5bb13",
   "metadata": {},
   "outputs": [],
   "source": [
    "def init(layersize):\n",
    "\n",
    "   #layersize is an array the holds the number of neurals in each hidden layer \n",
    "   # which means len(layersize) represent the total of layers.\n",
    "   #initialise a dict to save the parameters for each layer .  W :for the weights  and b: for the bias \n",
    "    param={} \n",
    "    for L in range(1,len(layersize)): #Looping through the layers \n",
    "        #L=1,2,3,...,len(layersize)-1\n",
    "        param[f'w{L}']=np.random.randn(layersize[L],layersize[L-1]) * 0.01 # random normal distribution multiplied by 0.01 to generate smaller values\n",
    "        #num of rows=num of neurons in the Lst layer, num of columns=num of neurons in the (L-1)th layer.\n",
    "        param[f'b{L}']=np.zeros((layersize[L],1)) # an array of zeros for the bias (num of rows =num of neurons in the Lst layer)\n",
    "    return param "
   ]
  },
  {
   "cell_type": "code",
   "execution_count": 3,
   "id": "f487afec",
   "metadata": {},
   "outputs": [],
   "source": [
    "#defining  the activation function softmax for the last layer\n",
    "def softmax(Z):\n",
    "    expz=np.exp(Z-np.max(Z,axis=0,keepdims=True)) \n",
    "    return expz/np.sum(expz,axis=0,keepdims=True)"
   ]
  },
  {
   "cell_type": "code",
   "execution_count": 4,
   "id": "d667d576",
   "metadata": {},
   "outputs": [],
   "source": [
    "#defining the relative activation function for the hidden layers\n",
    "def relu(Z):\n",
    "    return np.maximum(0,Z)"
   ]
  },
  {
   "cell_type": "code",
   "execution_count": 5,
   "id": "36f71679",
   "metadata": {},
   "outputs": [],
   "source": [
    "def sigmoid(Z):\n",
    "    return 1/(1+np.exp(-Z))"
   ]
  },
  {
   "cell_type": "code",
   "execution_count": null,
   "id": "d8860de5",
   "metadata": {},
   "outputs": [],
   "source": [
    "#defing the forward propagation function\n",
    "def forward(X,param):\n",
    "    L=len(param)//2 #number of layers in the network since in the param dict we have w and b for each layer so we divide by 2\n",
    "    #initialise a dict to save the output  values (activation)  for each layer\n",
    "    # we store the input values X in first values as a0 .\n",
    "    activ={\n",
    "        'a0':X\n",
    "    }\n",
    "    # the 0 index is for the input layer \n",
    "    for l in range(1,L): #starting from the first  hidden layer to the one before the last.\n",
    "        #we calculate Z wich is the product between the weights and the output (activation) of the previous layer + the bias\n",
    "        #param[f'w{l}'] : represents the weights of the lth layer\n",
    "        #activ[f'a{l-1}'] : represents the output of the previous layer (l-1)\n",
    "        Z=np.dot(param[f'w{l}'] , activ[f'a{l-1}'])+param[f'b{l}']\n",
    "        #next we apply the relu activation function on the calculated value Z to get the outputs of the lth layer (activations)\n",
    "        a=relu(Z)\n",
    "        #store Z(l) and  a(l) in the activ dict\n",
    "        activ[f'z{l}']=Z\n",
    "        activ[f'a{l}']=a\n",
    "    # the operation on the last input will be a bit unique as we will use the softmax function to get the  final output\n",
    "    # as we did previously  calculating ZL for the last layer \n",
    "    #param[f'w{L}'] :the weights of the last layer\n",
    "    #activ[f'a{L-1}']:the output of the previous layer (L-1) which is the last hidden layer\n",
    "    ZL = np.dot(param[f'w{L}'], activ[f'a{L-1}']) + param[f'b{L}']\n",
    "    activ[f'z{L}'] = ZL  \n",
    "    # we apply the softmax function to get the final output of the last layer which will give a vector of a lenght of 9 \n",
    "    # the value represents  the probablities of each class [0.2,0.1,0.3,0.4,0.9,0.1,0.2,0.3,0.4] which means that \n",
    "    #the 5th class has the highest proba of being the output class (the predicted value is 5 )\n",
    "    activ[f'a{L}'] = softmax(ZL) \n",
    "    return activ"
   ]
  },
  {
   "cell_type": "code",
   "execution_count": 7,
   "id": "36e7dacd",
   "metadata": {},
   "outputs": [],
   "source": [
    "#relu derivative function that will be used in the backward propagation to calculate the gradients \n",
    "def relu_deriv(a):\n",
    "    return (a > 0).astype(float)"
   ]
  },
  {
   "cell_type": "code",
   "execution_count": null,
   "id": "23935087",
   "metadata": {},
   "outputs": [],
   "source": [
    "#defining the backward propagation function\n",
    "#this function will calculate the grads of the weights and bias that we gonna use in the updating process\n",
    "\n",
    "def back_prop(param,activ,Y):\n",
    "    L=len(param)//2 # total numer of layers in the network\n",
    "    grads={} # init a dict to store the claculated gradienst\n",
    "    m=Y.shape[1]  #num of samples in Y (trainig set size )\n",
    "    #we start with the last layer\n",
    "    #we calculate dz for the last layer we substrat the last output with the Y training set\n",
    "    # but her Y is one hoted coded which mean that it is alos on  the form of proba vector\n",
    "    dz=activ[f'a{L}']-Y\n",
    "    #we store dz in grads\n",
    "    grads[f'dz{L}'] = dz\n",
    "    #we calculate next the dw of the last layer which is the product between dz and  the output of the previous layer (L-1).\n",
    "    #we do the trasnpose because \n",
    "    grads[f'dw{L}']=1/m* np.dot(dz,activ[f'a{L-1}'].T)\n",
    "    #we calculate the b  graadient by summing the dz vector \n",
    "    grads[f\"db{L}\"] = (1 / m) * np.sum(dz, axis=1, keepdims=True)\n",
    "    for l in reversed(range(1,L)):#looping the layers in reverse order from the one before the last to the first hidden layer\n",
    "        w_next=param[f'w{l+1}']\n",
    "        dz_next=grads[f'dz{l+1}']\n",
    "\n",
    "        grads[f'dz{l}']=np.dot(w_next.T,dz_next)*relu_deriv(activ[f'a{l}'])\n",
    "        grads[f'dw{l}']=(1/m)*np.dot(grads[f'dz{l}'],activ[f'a{l-1}'].T)\n",
    "        grads[f'db{l}']=(1/m)*np.sum(grads[f'dz{l}'],axis=1,keepdims=True)\n",
    "    return grads \n",
    "    "
   ]
  },
  {
   "cell_type": "code",
   "execution_count": null,
   "id": "324eb6a4",
   "metadata": {},
   "outputs": [],
   "source": []
  },
  {
   "cell_type": "code",
   "execution_count": 10,
   "id": "0e211bcb",
   "metadata": {},
   "outputs": [],
   "source": [
    "#defyning the update funct that used to update the weights and the bias of each layer using the gradients from the backward propagation \n",
    "\n",
    "def update(para,gradients,lr):\n",
    "    L=len(para)//2\n",
    "    for l in range(1,L+1):\n",
    "        para[f'w{l}']-=lr*gradients[f'dw{l}'] \n",
    "        para[f'b{l}']-=lr*gradients[f'db{l}']\n",
    "    return para"
   ]
  },
  {
   "cell_type": "code",
   "execution_count": 11,
   "id": "692e8058",
   "metadata": {},
   "outputs": [],
   "source": [
    "#the prediction function that predict the output from the input\n",
    "def predict(X,para):\n",
    "    activ=forward(X,para) # applying the forward function that returns the dict of actiavtions \n",
    "    L=len(para)//2 # the number of layer\n",
    "    return np.argmax(activ[f'a{L}'],axis=0) #getting the index of the value that has the highest proba which is the predicted value\n"
   ]
  },
  {
   "cell_type": "code",
   "execution_count": 12,
   "id": "99b4d884",
   "metadata": {},
   "outputs": [],
   "source": [
    "#the loss function\n",
    "\n",
    "def loss(AL, Y):\n",
    "    m = Y.shape[1]\n",
    "    return -np.sum(Y * np.log(AL + 1e-8)) / m  # 1e-8 is epsilon to prevent the case of np.log(0) which is undefined \n"
   ]
  },
  {
   "cell_type": "code",
   "execution_count": null,
   "id": "b4225f3c",
   "metadata": {},
   "outputs": [],
   "source": [
    "#the main function of our program that train the dataset \n",
    "\n",
    "def train(X,Y,sizes,lr=0.01,iter=2000):\n",
    "     #X is the training dataset.\n",
    "     #Y is the real values.\n",
    "     #we apply the init funtion previously defined to initialise the w and bias matrix and vvectors for each layer\n",
    "     # by giving as a parameter sizes which is a vector that holds the number of neurons in eaach layer\n",
    "     param=init(sizes) \n",
    "     #an array for storing the losses in each iteration\n",
    "     cost=[]\n",
    "     #an array too for storing the accuracies\n",
    "     accuracy=[]\n",
    "    \n",
    "     for i in range(iter):#looping through num of iterations\n",
    "            #calling for the foward function to calculate the activations (outut values) for each layer\n",
    "            activ=forward(X,param)\n",
    "            #calculating the loss by calling  the loss function\n",
    "            err=loss(activ[f'a{len(sizes)-1}'], Y)\n",
    "            # we calculate the grads by calling backpropagation that returns the dict of  gradients\n",
    "            grads=back_prop(param,activ,Y)\n",
    "            #add err to cost \n",
    "            cost.append(err)\n",
    "            #making a prediction with the current params to calculate the accuracy \n",
    "            preds=predict(X,param)\n",
    "            #getting the labels from Y by applying argmax since Y is a vector of proba we retur the index of the value that hsd the  highest proba \n",
    "            true_labels=np.argmax(Y,axis=0)\n",
    "            #calculatiing the accuracy which is the mean of the number of the correct prediction \n",
    "            acc=np.mean(preds==true_labels)\n",
    "            #we add acuuracy to the array  for this iteration\n",
    "            accuracy.append(acc)\n",
    "            #we apply the update function to update the weights and bias for each layer \n",
    "            # we repeat the process for 2000 iter\n",
    "            param=update(param,grads,lr)\n",
    "            if i % 100 == 0:\n",
    "                print(f\"Epoch {i}, Loss: {loss(activ[f'a{len(sizes)-1}'], Y)}\")\n",
    "     return param,cost,accuracy  "
   ]
  },
  {
   "cell_type": "code",
   "execution_count": 14,
   "id": "a307bd40",
   "metadata": {},
   "outputs": [],
   "source": [
    "# definint one hot function that turns the value of Y into a vector of a probabilities\n",
    "# for exemple if Y[1]=9 the Y[1] value will become [0,0,0,0,0,0,0,0,1]\n",
    "\n",
    "def one_hot(Y, num_classes):\n",
    "    one_hot_Y = np.zeros((num_classes, Y.size)) #create the zeros vector that has a lenght of the number of classes in our case is 9\n",
    "    one_hot_Y[Y, np.arange(Y.size)] = 1 # then turn the  value of the index  Y to 1 \n",
    "    return one_hot_Y"
   ]
  },
  {
   "cell_type": "code",
   "execution_count": 25,
   "id": "e29b4e2e",
   "metadata": {},
   "outputs": [
    {
     "name": "stdout",
     "output_type": "stream",
     "text": [
      "Epoch 0, Loss: 2.3025498006816467\n",
      "Epoch 100, Loss: 2.2999155023082354\n",
      "Epoch 200, Loss: 2.2968042660103807\n",
      "Epoch 300, Loss: 2.207974045777236\n",
      "Epoch 400, Loss: 1.270203183415091\n",
      "Epoch 500, Loss: 0.7910768905419443\n",
      "Epoch 600, Loss: 0.606997778383503\n",
      "Epoch 700, Loss: 0.524016676915036\n",
      "Epoch 800, Loss: 0.45814016778376443\n",
      "Epoch 900, Loss: 0.39616442238589394\n"
     ]
    }
   ],
   "source": [
    "from sklearn.datasets import fetch_openml\n",
    "\n",
    "# Load MNIST dataset\n",
    "X, y = fetch_openml('mnist_784', version=1, return_X_y=True)\n",
    "\n",
    "\n",
    "X = X / 255.0  # normalize X\n",
    "\n",
    "\n",
    "# Convert labels to integers and apply one-hot encoding\n",
    "y = y.astype(int)\n",
    "\n",
    "Y = one_hot(y.to_numpy(), 10)  # Apply one-hot encoding\n",
    "\n",
    "#call the train function \n",
    "# training set  will be 10000 samples\n",
    "#sizes :\n",
    "#input layer will be 28 * 28 => 748 \n",
    "#first hidden layer 128 neurals\n",
    "#second hidden layer 64 neurals\n",
    "#last layer the output 10 neurals \n",
    "#learning rate 0.1\n",
    "#num of iteration 5000\n",
    "parameters,cost ,acuracy  = train(X[:10000].T, Y[:, :10000], sizes=[784, 128, 64, 10], lr=0.1,iter=1000)\n",
    "\n",
    "\n",
    "\n"
   ]
  },
  {
   "cell_type": "code",
   "execution_count": 16,
   "id": "b4dadb1d",
   "metadata": {},
   "outputs": [],
   "source": [
    "import matplotlib.pyplot as plt"
   ]
  },
  {
   "cell_type": "code",
   "execution_count": 26,
   "id": "c879ee48",
   "metadata": {},
   "outputs": [
    {
     "data": {
      "image/png": "[encoded data removed]",
      "text/plain": [
       "<Figure size 1000x500 with 1 Axes>"
      ]
     },
     "metadata": {},
     "output_type": "display_data"
    }
   ],
   "source": [
    "plt.figure(figsize=(10, 5))\n",
    "plt.plot(cost, label=\"Loss\")\n",
    "plt.xlabel(\"Iterations\")\n",
    "plt.ylabel(\"Loss\")\n",
    "plt.title(\"Loss \")\n",
    "plt.legend()\n",
    "plt.show()"
   ]
  },
  {
   "cell_type": "code",
   "execution_count": 27,
   "id": "a3b2f52f",
   "metadata": {},
   "outputs": [
    {
     "data": {
      "image/png": "[encoded data removed]",
      "text/plain": [
       "<Figure size 1000x500 with 1 Axes>"
      ]
     },
     "metadata": {},
     "output_type": "display_data"
    }
   ],
   "source": [
    "plt.figure(figsize=(10, 5))\n",
    "plt.plot(range(len(acuracy)), acuracy, label=\"Accuracy\", marker='o')  # Pass the 'accuracy' list here\n",
    "plt.xlabel(\"Iterations\")\n",
    "plt.ylabel(\"Accuracy\")\n",
    "plt.title(\"Accuracy During Training\")\n",
    "plt.legend()\n",
    "plt.show()"
   ]
  },
  {
   "cell_type": "code",
   "execution_count": 19,
   "id": "b4ad0a40",
   "metadata": {},
   "outputs": [],
   "source": [
    "from sklearn.metrics import confusion_matrix, classification_report"
   ]
  },
  {
   "cell_type": "code",
   "execution_count": 28,
   "id": "49256af0",
   "metadata": {},
   "outputs": [
    {
     "name": "stdout",
     "output_type": "stream",
     "text": [
      "Accuracy: 87.46%\n"
     ]
    }
   ],
   "source": [
    "outputs = forward(X[11000:20000].T, parameters)['a' + str(len(parameters)//2)]\n",
    "preds = np.argmax(outputs, axis=0)\n",
    "\n",
    "\n",
    "#  accuracy\n",
    "accuracy = np.mean(preds == y[11000:20000]) * 100\n",
    "print(f\"Accuracy: {accuracy:.2f}%\")"
   ]
  },
  {
   "cell_type": "code",
   "execution_count": 29,
   "id": "2d94b71a",
   "metadata": {},
   "outputs": [
    {
     "name": "stdout",
     "output_type": "stream",
     "text": [
      "[[844   0  17   1   0  22   6   2   3   1]\n",
      " [  0 992   6   5   2   3   0   2  31   1]\n",
      " [  4  15 724  22  10   5  24   7  27   3]\n",
      " [  4  15  36 773   0  59   4  11  33   6]\n",
      " [  1   1   8   0 749   2  17   2   7  72]\n",
      " [ 12   3  17  33   8 680  17   1  32  14]\n",
      " [  6   2  23   0  16  14 784   0   8   1]\n",
      " [  1  12  11   6   7   0   0 863   2  24]\n",
      " [  0  20  14  41   6  46   8   2 715  40]\n",
      " [  8   5   3  11  73  10   2  57  16 747]]\n"
     ]
    }
   ],
   "source": [
    "true_labels = y[11000:20000]\n",
    "\n",
    "cm=confusion_matrix(true_labels,preds)\n",
    "print(cm)"
   ]
  },
  {
   "cell_type": "code",
   "execution_count": 30,
   "id": "b2f0b596",
   "metadata": {},
   "outputs": [
    {
     "name": "stdout",
     "output_type": "stream",
     "text": [
      "              precision    recall  f1-score   support\n",
      "\n",
      "           0       0.96      0.94      0.95       896\n",
      "           1       0.93      0.95      0.94      1042\n",
      "           2       0.84      0.86      0.85       841\n",
      "           3       0.87      0.82      0.84       941\n",
      "           4       0.86      0.87      0.87       859\n",
      "           5       0.81      0.83      0.82       817\n",
      "           6       0.91      0.92      0.91       854\n",
      "           7       0.91      0.93      0.92       926\n",
      "           8       0.82      0.80      0.81       892\n",
      "           9       0.82      0.80      0.81       932\n",
      "\n",
      "    accuracy                           0.87      9000\n",
      "   macro avg       0.87      0.87      0.87      9000\n",
      "weighted avg       0.87      0.87      0.87      9000\n",
      "\n"
     ]
    }
   ],
   "source": [
    "report=classification_report(true_labels,preds)\n",
    "print(report)"
   ]
  },
  {
   "cell_type": "code",
   "execution_count": null,
   "id": "3184bc05",
   "metadata": {},
   "outputs": [],
   "source": []
  },
  {
   "cell_type": "code",
   "execution_count": null,
   "id": "8d47aa04",
   "metadata": {},
   "outputs": [
    {
     "name": "stderr",
     "output_type": "stream",
     "text": [
      "<>:32: SyntaxWarning: invalid escape sequence '\\i'\n",
      "<>:32: SyntaxWarning: invalid escape sequence '\\i'\n",
      "C:\\Users\\USER\\AppData\\Local\\Temp\\ipykernel_15316\\1000900171.py:32: SyntaxWarning: invalid escape sequence '\\i'\n",
      "  img_vector = preprocess_image('images\\im3.jpeg')\n"
     ]
    },
    {
     "data": {
      "image/png": "[encoded data removed]",
      "text/plain": [
       "<Figure size 640x480 with 1 Axes>"
      ]
     },
     "metadata": {},
     "output_type": "display_data"
    },
    {
     "name": "stdout",
     "output_type": "stream",
     "text": [
      "Predicted digit: [3]\n"
     ]
    }
   ],
   "source": [
    "from PIL import Image\n",
    "import numpy as np\n",
    "import matplotlib.pyplot as plt\n",
    "\n",
    "def preprocess_image(path):\n",
    "  \n",
    "    img = Image.open(path).convert('L')  \n",
    "\n",
    "    # Resize to 28x28\n",
    "    img = img.resize((28, 28))\n",
    "     \n",
    "  \n",
    "    img_array = np.array(img)\n",
    "\n",
    "\n",
    "    plt.imshow(img_array, cmap='gray')\n",
    "    plt.title(\"Input Image\")\n",
    "    plt.axis(\"off\")\n",
    "    plt.show()\n",
    "\n",
    "    if img_array.mean() > 127:  \n",
    "        img_array = 255 - img_array \n",
    "\n",
    "    # Normalize pixel values\n",
    "    img_array = img_array / 255.0\n",
    "\n",
    "    img_vector = img_array.reshape(784, 1)\n",
    "\n",
    "    return img_vector\n",
    "\n",
    "\n",
    "img_vector = preprocess_image('images\\im3.jpeg')\n",
    "pred = predict(img_vector, parameters)\n",
    "print(f\"Predicted digit: {pred}\")"
   ]
  },
  {
   "cell_type": "code",
   "execution_count": null,
   "id": "0a915c80",
   "metadata": {},
   "outputs": [],
   "source": [
    "import pickle"
   ]
  },
  {
   "cell_type": "code",
   "execution_count": null,
   "id": "3c10266f",
   "metadata": {},
   "outputs": [],
   "source": [
    "\n",
    "with open(\"model.pkl\", \"wb\") as file:\n",
    "    pickle.dump(parameters, file)\n"
   ]
  },
  {
   "cell_type": "code",
   "execution_count": null,
   "id": "72ae8aca",
   "metadata": {},
   "outputs": [
    {
     "name": "stderr",
     "output_type": "stream",
     "text": [
      "<>:6: SyntaxWarning: invalid escape sequence '\\i'\n",
      "<>:6: SyntaxWarning: invalid escape sequence '\\i'\n",
      "C:\\Users\\USER\\AppData\\Local\\Temp\\ipykernel_15316\\965942828.py:6: SyntaxWarning: invalid escape sequence '\\i'\n",
      "  img_vector = preprocess_image('images\\im11.png')\n"
     ]
    },
    {
     "data": {
      "image/png": "[encoded data removed]",
      "text/plain": [
       "<Figure size 640x480 with 1 Axes>"
      ]
     },
     "metadata": {},
     "output_type": "display_data"
    },
    {
     "name": "stdout",
     "output_type": "stream",
     "text": [
      "Predicted digit: [7]\n"
     ]
    }
   ],
   "source": [
    "\n",
    "\n",
    "with open (\"model.pkl\",\"rb\") as file:\n",
    "    parameters = pickle.load(file)\n",
    "\n",
    "\n",
    "\n",
    "img_vector = preprocess_image('images\\im11.png')\n",
    "pred = predict(img_vector, parameters)\n",
    "print(f\"Predicted digit: {pred}\")\n",
    "\n"
   ]
  }
 ],
 "metadata": {
  "kernelspec": {
   "display_name": "base",
   "language": "python",
   "name": "python3"
  },
  "language_info": {
   "codemirror_mode": {
    "name": "ipython",
    "version": 3
   },
   "file_extension": ".py",
   "mimetype": "text/x-python",
   "name": "python",
   "nbconvert_exporter": "python",
   "pygments_lexer": "ipython3",
   "version": "3.12.7"
  }
 },
 "nbformat": 4,
 "nbformat_minor": 5
}
