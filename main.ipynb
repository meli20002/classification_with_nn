{
 "cells": [
  {
   "cell_type": "code",
   "execution_count": null,
   "id": "fdb5bfc7",
   "metadata": {},
   "outputs": [],
   "source": [
    "import pickle"
   ]
  },
  {
   "cell_type": "code",
   "execution_count": null,
   "id": "e02d24c3",
   "metadata": {},
   "outputs": [],
   "source": [
    "with open (\"model.pkl\",\"rb\") as file:\n",
    "    parameters = pickle.load(file)"
   ]
  },
  {
   "cell_type": "code",
   "execution_count": null,
   "id": "4fc34158",
   "metadata": {},
   "outputs": [],
   "source": []
  },
  {
   "cell_type": "code",
   "execution_count": 1,
   "id": "2a874fbf",
   "metadata": {},
   "outputs": [
    {
     "ename": "PermissionError",
     "evalue": "[Errno 13] Permission denied: 'C:\\\\Users\\\\USER\\\\Desktop\\\\neural_network'",
     "output_type": "error",
     "traceback": [
      "\u001b[1;31m---------------------------------------------------------------------------\u001b[0m",
      "\u001b[1;31mPermissionError\u001b[0m                           Traceback (most recent call last)",
      "Cell \u001b[1;32mIn[1], line 12\u001b[0m\n\u001b[0;32m      9\u001b[0m img_path \u001b[38;5;241m=\u001b[39m filedialog\u001b[38;5;241m.\u001b[39maskopenfilename()\n\u001b[0;32m     11\u001b[0m \u001b[38;5;66;03m# Open and process the image to be like MNIST (28x28 grayscale, inverted)\u001b[39;00m\n\u001b[1;32m---> 12\u001b[0m img \u001b[38;5;241m=\u001b[39m \u001b[43mImage\u001b[49m\u001b[38;5;241;43m.\u001b[39;49m\u001b[43mopen\u001b[49m\u001b[43m(\u001b[49m\u001b[43mimg_path\u001b[49m\u001b[43m)\u001b[49m\u001b[38;5;241m.\u001b[39mconvert(\u001b[38;5;124m'\u001b[39m\u001b[38;5;124mL\u001b[39m\u001b[38;5;124m'\u001b[39m)\u001b[38;5;241m.\u001b[39mresize((\u001b[38;5;241m28\u001b[39m, \u001b[38;5;241m28\u001b[39m))\n\u001b[0;32m     13\u001b[0m img_np \u001b[38;5;241m=\u001b[39m np\u001b[38;5;241m.\u001b[39marray(img)\n\u001b[0;32m     14\u001b[0m img_np \u001b[38;5;241m=\u001b[39m \u001b[38;5;241m255\u001b[39m \u001b[38;5;241m-\u001b[39m img_np  \u001b[38;5;66;03m# invert colors if needed (MNIST: white digit on black)\u001b[39;00m\n",
      "File \u001b[1;32mc:\\Users\\USER\\anaconda3\\Lib\\site-packages\\PIL\\Image.py:3431\u001b[0m, in \u001b[0;36mopen\u001b[1;34m(fp, mode, formats)\u001b[0m\n\u001b[0;32m   3428\u001b[0m     filename \u001b[38;5;241m=\u001b[39m os\u001b[38;5;241m.\u001b[39mpath\u001b[38;5;241m.\u001b[39mrealpath(os\u001b[38;5;241m.\u001b[39mfspath(fp))\n\u001b[0;32m   3430\u001b[0m \u001b[38;5;28;01mif\u001b[39;00m filename:\n\u001b[1;32m-> 3431\u001b[0m     fp \u001b[38;5;241m=\u001b[39m \u001b[43mbuiltins\u001b[49m\u001b[38;5;241;43m.\u001b[39;49m\u001b[43mopen\u001b[49m\u001b[43m(\u001b[49m\u001b[43mfilename\u001b[49m\u001b[43m,\u001b[49m\u001b[43m \u001b[49m\u001b[38;5;124;43m\"\u001b[39;49m\u001b[38;5;124;43mrb\u001b[39;49m\u001b[38;5;124;43m\"\u001b[39;49m\u001b[43m)\u001b[49m\n\u001b[0;32m   3432\u001b[0m     exclusive_fp \u001b[38;5;241m=\u001b[39m \u001b[38;5;28;01mTrue\u001b[39;00m\n\u001b[0;32m   3433\u001b[0m \u001b[38;5;28;01melse\u001b[39;00m:\n",
      "\u001b[1;31mPermissionError\u001b[0m: [Errno 13] Permission denied: 'C:\\\\Users\\\\USER\\\\Desktop\\\\neural_network'"
     ]
    }
   ],
   "source": [
    "from PIL import Image\n",
    "import numpy as np\n",
    "from tkinter import Tk, filedialog\n",
    "\n",
    "import matplotlib.pyplot as plt\n",
    "\n",
    "# Upload an image\n",
    "Tk().withdraw()\n",
    "img_path = filedialog.askopenfilename()\n",
    "\n",
    "# Open and process the image to be like MNIST (28x28 grayscale, inverted)\n",
    "img = Image.open(img_path).convert('L').resize((28, 28))\n",
    "img_np = np.array(img)\n",
    "img_np = 255 - img_np  # invert colors if needed (MNIST: white digit on black)\n",
    "img_np = img_np / 255.0   \n",
    "img_np = img_np.reshape(1, 28, 28, 1)  \n",
    "\n",
    "\n",
    "img_flat = img_np.reshape(1, -1)\n",
    "\n",
    "\n"
   ]
  },
  {
   "cell_type": "code",
   "execution_count": null,
   "id": "982bdd73",
   "metadata": {},
   "outputs": [],
   "source": [
    "#the prediction function that predict the output from the input\n",
    "def predict(X,para):\n",
    "    activ=forward(X,para) # applying the forward function that returns the dict of actiavtions \n",
    "    L=len(para)//2 # the number of layer\n",
    "    return np.argmax(activ[f'a{L}'],axis=0) #getting the index of the value that has the highest proba which is the predicted value\n"
   ]
  },
  {
   "cell_type": "code",
   "execution_count": null,
   "id": "a41e88b3",
   "metadata": {},
   "outputs": [],
   "source": [
    "prediction = parameters.predict(img_flat)\n",
    "\n",
    "# Show the image and prediction\n",
    "plt.imshow(img, cmap='gray')\n",
    "plt.title(f'Prediction: {prediction[0]}')\n",
    "plt.axis('off')\n",
    "plt.show()"
   ]
  }
 ],
 "metadata": {
  "kernelspec": {
   "display_name": "base",
   "language": "python",
   "name": "python3"
  },
  "language_info": {
   "codemirror_mode": {
    "name": "ipython",
    "version": 3
   },
   "file_extension": ".py",
   "mimetype": "text/x-python",
   "name": "python",
   "nbconvert_exporter": "python",
   "pygments_lexer": "ipython3",
   "version": "3.12.7"
  }
 },
 "nbformat": 4,
 "nbformat_minor": 5
}
