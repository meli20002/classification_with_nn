{
 "cells": [
  {
   "cell_type": "code",
   "execution_count": null,
   "metadata": {},
   "outputs": [],
   "source": [
    "import numpy as np"
   ]
  },
  {
   "cell_type": "code",
   "execution_count": 1,
   "metadata": {},
   "outputs": [],
   "source": [
    "def init(n0,n1,n2):\n",
    "    para={}\n",
    "    w1=np.random.randin(n1,n0)*0.1\n",
    "    b1=np.zeros((n1,1))\n",
    "    w2=np.random.randin(n2,n1) *0.1\n",
    "    b2=np.zeros((n2,1))\n",
    "    para['w1']=w1\n",
    "    para['w2']=w2\n",
    "    para['b1']=b1\n",
    "    para['b2']=b2\n",
    "\n",
    "    return para"
   ]
  },
  {
   "cell_type": "code",
   "execution_count": 2,
   "metadata": {},
   "outputs": [],
   "source": [
    "def sigmoid(z):\n",
    "    return 1/(1+np.exp(-z))"
   ]
  },
  {
   "cell_type": "code",
   "execution_count": null,
   "metadata": {},
   "outputs": [],
   "source": [
    "def forward_Pro(X,para):\n",
    "    activ={}\n",
    "    w1=para['w1']\n",
    "    w2=para['w2']\n",
    "    b1=para['b1']\n",
    "    b2=para['b2']\n",
    "    \n",
    "    z1=np.dot(w1,X)+b1\n",
    "    a1=sigmoid(z1)\n",
    "\n",
    "    z2=np.dot(w2,X)+b2\n",
    "    a2=sigmoid(z2)\n",
    "\n",
    "    activ['z1']=z1\n",
    "    activ['a1']=a1\n",
    "    activ['z2']=z2\n",
    "    activ['a2']=a2\n",
    "\n",
    "    return activ\n",
    "\n",
    "\n",
    " "
   ]
  },
  {
   "cell_type": "code",
   "execution_count": 3,
   "metadata": {},
   "outputs": [],
   "source": [
    "def back_pro(X,Y,activ,para):\n",
    "    m=X.shape[1]\n",
    "    w1=para['w1']\n",
    "    w2=para['w2']\n",
    "    b1=para['b1']\n",
    "    b2=para['b2']\n",
    "\n",
    "    a1=activ['a1']\n",
    "    a2=activ['a2']\n",
    "\n",
    "    dz2=a2-Y\n",
    "    dw2=1/m*np.dot(dz2,a1.T)\n",
    "    db2=1/m*np.sum(dz2,axis=1,keepdims=True)\n",
    "    dz1=np.dot(w2.T,dz2) * a1*(1-a1)\n",
    "    \n",
    "    dw1=1/m*np.dot(dz1,X.T)\n",
    "    db1=1/m*np.sum(dz1,axis=1,keepdims=True)\n",
    "\n",
    "    grads={}\n",
    "    grads['dw1']=dw1\n",
    "    grads['dw2']=dw2\n",
    "    grads['db1']=db1\n",
    "    grads['db2']=db2\n",
    "    return grads\n"
   ]
  },
  {
   "cell_type": "code",
   "execution_count": null,
   "metadata": {},
   "outputs": [],
   "source": [
    "def update(grad,para,learning_rate=0.01):\n",
    "    \n",
    "    para['w1']=para['w1']-learning_rate*grad['dw1']"
   ]
  }
 ],
 "metadata": {
  "kernelspec": {
   "display_name": "base",
   "language": "python",
   "name": "python3"
  },
  "language_info": {
   "codemirror_mode": {
    "name": "ipython",
    "version": 3
   },
   "file_extension": ".py",
   "mimetype": "text/x-python",
   "name": "python",
   "nbconvert_exporter": "python",
   "pygments_lexer": "ipython3",
   "version": "3.12.7"
  }
 },
 "nbformat": 4,
 "nbformat_minor": 2
}
